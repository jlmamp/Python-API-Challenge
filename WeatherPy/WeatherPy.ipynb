{
 "cells": [
  {
   "cell_type": "markdown",
   "metadata": {},
   "source": [
    "# WeatherPy\n",
    "----\n",
    "\n",
    "#### Note\n",
    "* Instructions have been included for each segment. You do not have to follow them exactly, but they are included to help you think through the steps."
   ]
  },
  {
   "cell_type": "code",
   "execution_count": 1,
   "metadata": {
    "scrolled": true
   },
   "outputs": [],
   "source": [
    "# Dependencies and Setup\n",
    "import matplotlib.pyplot as plt\n",
    "import pandas as pd\n",
    "import numpy as np\n",
    "import requests\n",
    "import time\n",
    "from scipy.stats import linregress\n",
    "from pprint import pprint\n",
    "import json\n",
    "\n",
    "# Import API key\n",
    "from api_keys import weather\n",
    "\n",
    "# Incorporated citipy to determine city based on latitude and longitude\n",
    "from citipy import citipy\n",
    "\n",
    "# Output File (CSV)\n",
    "output_data_file = \"output_data/cities.csv\"\n",
    "\n",
    "# Range of latitudes and longitudes\n",
    "lat_range = (-90, 90)\n",
    "lng_range = (-180, 180)"
   ]
  },
  {
   "cell_type": "markdown",
   "metadata": {},
   "source": [
    "## Generate Cities List"
   ]
  },
  {
   "cell_type": "code",
   "execution_count": 2,
   "metadata": {},
   "outputs": [
    {
     "data": {
      "text/plain": [
       "623"
      ]
     },
     "execution_count": 2,
     "metadata": {},
     "output_type": "execute_result"
    }
   ],
   "source": [
    "# List for holding lat_lngs and cities\n",
    "lat_lngs = []\n",
    "cities = []\n",
    "\n",
    "# Create a set of random lat and lng combinations\n",
    "lats = np.random.uniform(lat_range[0], lat_range[1], size=1500)\n",
    "lngs = np.random.uniform(lng_range[0], lng_range[1], size=1500)\n",
    "lat_lngs = zip(lats, lngs)\n",
    "\n",
    "# Identify nearest city for each lat, lng combination\n",
    "for lat_lng in lat_lngs:\n",
    "    city = citipy.nearest_city(lat_lng[0], lat_lng[1]).city_name\n",
    "    \n",
    "    # If the city is unique, then add it to a our cities list\n",
    "    if city not in cities:\n",
    "        cities.append(city)\n",
    "\n",
    "# Print the city count to confirm sufficient count\n",
    "len(cities)"
   ]
  },
  {
   "cell_type": "markdown",
   "metadata": {},
   "source": [
    "### Perform API Calls\n",
    "* Perform a weather check on each city using a series of successive API calls.\n",
    "* Include a print log of each city as it'sbeing processed (with the city number and city name).\n"
   ]
  },
  {
   "cell_type": "code",
   "execution_count": 3,
   "metadata": {},
   "outputs": [],
   "source": [
    "# Save config information\n",
    "url = \"http://api.openweathermap.org/data/2.5/weather?\"\n",
    "units = \"imperial\"\n",
    "\n",
    "# Build query URL\n",
    "queryURL = f\"{url}appid={weather}&units={units}&q=\"\n",
    "\n",
    "response = requests.get(queryURL + city).json()"
   ]
  },
  {
   "cell_type": "code",
   "execution_count": 4,
   "metadata": {
    "scrolled": true
   },
   "outputs": [
    {
     "name": "stdout",
     "output_type": "stream",
     "text": [
      "Beginning Data Retrieval\n",
      "-------------------------\n",
      "Processing Record 2 of 1 | Chegdomyn\n",
      "Processing Record 3 of 1 | Faya\n",
      "city not found. Skipping ...\n",
      "Processing Record 4 of 1 | El Vigia\n",
      "Processing Record 5 of 1 | Egvekinot\n",
      "Processing Record 6 of 1 | Lipin Bor\n",
      "Processing Record 7 of 1 | Vaini\n",
      "Processing Record 8 of 1 | Washougal\n",
      "Processing Record 9 of 1 | Milledgeville\n",
      "Processing Record 10 of 1 | Rikitea\n",
      "Processing Record 11 of 1 | Cape Town\n",
      "Processing Record 12 of 1 | Port Hardy\n",
      "Processing Record 13 of 1 | Thompson\n",
      "Processing Record 14 of 1 | Cidreira\n",
      "Processing Record 15 of 1 | Karakol\n",
      "Processing Record 16 of 1 | ‘Āhuimanu\n",
      "Processing Record 17 of 1 | Mugumu\n",
      "city not found. Skipping ...\n",
      "city not found. Skipping ...\n",
      "Processing Record 18 of 1 | Albany\n",
      "Processing Record 19 of 1 | Hermanus\n",
      "Processing Record 20 of 1 | Mahébourg\n",
      "Processing Record 21 of 1 | Stornoway\n",
      "Processing Record 22 of 1 | Hambantota\n",
      "Processing Record 23 of 1 | Praia da Vitória\n",
      "Processing Record 24 of 1 | Bluff\n",
      "Processing Record 25 of 1 | Carnarvon\n",
      "Processing Record 26 of 1 | Hilo\n",
      "Processing Record 27 of 1 | Afrikanda\n",
      "Processing Record 28 of 1 | Bredasdorp\n",
      "Processing Record 29 of 1 | Husavik\n",
      "Processing Record 30 of 1 | Panguna\n",
      "Processing Record 31 of 1 | Longyan\n",
      "Processing Record 32 of 1 | Srednekolymsk\n",
      "Processing Record 33 of 1 | Buraidah\n",
      "city not found. Skipping ...\n",
      "Processing Record 34 of 1 | Mataura\n",
      "Processing Record 35 of 1 | Ukiah\n",
      "Processing Record 36 of 1 | Bambous Virieux\n",
      "Processing Record 37 of 1 | São José da Coroa Grande\n",
      "Processing Record 38 of 1 | New Norfolk\n",
      "Processing Record 39 of 1 | Lata\n",
      "Processing Record 40 of 1 | Souillac\n",
      "Processing Record 41 of 1 | Ushuaia\n",
      "Processing Record 42 of 1 | Ladybank\n",
      "Processing Record 43 of 1 | Clyde River\n",
      "Processing Record 44 of 1 | Pimentel\n",
      "Processing Record 45 of 1 | Feijó\n",
      "Processing Record 46 of 1 | Ostrovnoy\n",
      "Processing Record 47 of 1 | Punta Arenas\n",
      "Processing Record 48 of 1 | Kedrovyy\n",
      "Processing Record 49 of 1 | Mweka\n",
      "Processing Record 50 of 1 | Esim\n",
      "Processing Record 0 of 2 | Hilton Head\n",
      "Processing Record 1 of 2 | Butte\n",
      "Processing Record 2 of 2 | Butaritari\n",
      "Processing Record 3 of 2 | Kendari\n",
      "Processing Record 4 of 2 | Chokurdakh\n",
      "Processing Record 5 of 2 | Puerto Ayora\n",
      "Processing Record 6 of 2 | Qaqortoq\n",
      "Processing Record 7 of 2 | Baghdad\n",
      "Processing Record 8 of 2 | Saint George\n",
      "Processing Record 9 of 2 | Kaitangata\n",
      "Processing Record 10 of 2 | Sitka\n",
      "Processing Record 11 of 2 | Coyhaique\n",
      "Processing Record 12 of 2 | Mareeba\n",
      "Processing Record 13 of 2 | Kapaa\n",
      "Processing Record 14 of 2 | Yumen\n",
      "Processing Record 15 of 2 | Tasiilaq\n",
      "Processing Record 16 of 2 | Severo-Kuril'sk\n",
      "Processing Record 17 of 2 | Agirish\n",
      "Processing Record 18 of 2 | Bethel\n",
      "Processing Record 19 of 2 | Khatanga\n",
      "Processing Record 20 of 2 | Bloemfontein\n",
      "Processing Record 21 of 2 | Monrovia\n",
      "Processing Record 22 of 2 | Avarua\n",
      "Processing Record 23 of 2 | Novikovo\n",
      "city not found. Skipping ...\n",
      "Processing Record 24 of 2 | Te Anau\n",
      "Processing Record 25 of 2 | Port Alfred\n",
      "city not found. Skipping ...\n",
      "Processing Record 26 of 2 | Walvis Bay\n",
      "city not found. Skipping ...\n",
      "Processing Record 27 of 2 | Buzoeşti\n",
      "Processing Record 28 of 2 | Geraldton\n",
      "Processing Record 29 of 2 | Lorengau\n",
      "Processing Record 30 of 2 | Matara\n",
      "Processing Record 31 of 2 | Carbonia\n",
      "Processing Record 32 of 2 | Bengkulu\n",
      "Processing Record 33 of 2 | Mar del Plata\n",
      "Processing Record 34 of 2 | Busselton\n",
      "Processing Record 35 of 2 | Anloga\n",
      "Processing Record 36 of 2 | George Town\n",
      "Processing Record 37 of 2 | Nouadhibou\n",
      "city not found. Skipping ...\n",
      "Processing Record 38 of 2 | Wakema\n",
      "city not found. Skipping ...\n",
      "Processing Record 39 of 2 | Hamilton\n",
      "Processing Record 40 of 2 | Bilibino\n",
      "Processing Record 41 of 2 | The Valley\n",
      "Processing Record 42 of 2 | Kloulklubed\n",
      "Processing Record 43 of 2 | Hobart\n",
      "Processing Record 44 of 2 | Springbok\n",
      "Processing Record 45 of 2 | Banda Aceh\n",
      "Processing Record 46 of 2 | Waipawa\n",
      "Processing Record 47 of 2 | Longyearbyen\n",
      "Processing Record 48 of 2 | East London\n",
      "Processing Record 49 of 2 | Sangar\n",
      "Processing Record 50 of 2 | Pringsewu\n",
      "Processing Record 0 of 3 | Davila\n",
      "Processing Record 1 of 3 | Varkaus\n",
      "Processing Record 2 of 3 | Debre Tabor\n",
      "Processing Record 3 of 3 | Jalu\n",
      "Processing Record 4 of 3 | Bilma\n",
      "city not found. Skipping ...\n",
      "Processing Record 5 of 3 | Hamza\n",
      "Processing Record 6 of 3 | Pervomayskoye\n",
      "Processing Record 7 of 3 | Baykit\n",
      "Processing Record 8 of 3 | Bandrele\n",
      "Processing Record 9 of 3 | Jamestown\n",
      "city not found. Skipping ...\n",
      "Processing Record 10 of 3 | Saint Paul Harbor\n",
      "Processing Record 11 of 3 | Eyl\n",
      "Processing Record 12 of 3 | Mayo\n",
      "Processing Record 13 of 3 | Bud\n",
      "Processing Record 14 of 3 | Nantucket\n",
      "Processing Record 15 of 3 | Brae\n",
      "Processing Record 16 of 3 | Basse-Pointe\n",
      "Processing Record 17 of 3 | Hasaki\n",
      "Processing Record 18 of 3 | Broken Hill\n",
      "Processing Record 19 of 3 | Mahanoro\n",
      "Processing Record 20 of 3 | Yellowknife\n",
      "Processing Record 21 of 3 | Chui\n",
      "Processing Record 22 of 3 | Trat\n",
      "Processing Record 23 of 3 | Limbang\n",
      "Processing Record 24 of 3 | Pisco\n",
      "Processing Record 25 of 3 | Dwārka\n",
      "Processing Record 26 of 3 | Port Elizabeth\n",
      "Processing Record 27 of 3 | Hithadhoo\n",
      "Processing Record 28 of 3 | Tarumovka\n",
      "Processing Record 29 of 3 | Ca Mau\n",
      "Processing Record 30 of 3 | Port Moresby\n",
      "city not found. Skipping ...\n",
      "city not found. Skipping ...\n",
      "Processing Record 31 of 3 | Ribeira Grande\n",
      "Processing Record 32 of 3 | Ponta do Sol\n",
      "Processing Record 33 of 3 | Gornopravdinsk\n",
      "Processing Record 34 of 3 | Nome\n",
      "Processing Record 35 of 3 | Adelaide\n",
      "Processing Record 36 of 3 | Thunder Bay\n",
      "Processing Record 37 of 3 | Nikolskoye\n",
      "Processing Record 38 of 3 | Hay River\n",
      "Processing Record 39 of 3 | Topolobampo\n",
      "Processing Record 40 of 3 | Orbetello\n",
      "Processing Record 41 of 3 | Nioro\n",
      "city not found. Skipping ...\n",
      "Processing Record 42 of 3 | Sibu\n",
      "Processing Record 43 of 3 | Nemuro\n",
      "Processing Record 44 of 3 | Saint-Pierre\n",
      "Processing Record 45 of 3 | Mount Isa\n",
      "Processing Record 46 of 3 | Bonavista\n",
      "Processing Record 47 of 3 | Omboué\n",
      "Processing Record 48 of 3 | Samarai\n",
      "Processing Record 49 of 3 | Catuday\n",
      "Processing Record 50 of 3 | Waverly\n",
      "Processing Record 0 of 4 | Grand-Santi\n",
      "Processing Record 1 of 4 | Umm Kaddadah\n",
      "Processing Record 2 of 4 | Barrow\n",
      "city not found. Skipping ...\n",
      "Processing Record 3 of 4 | Castro\n",
      "Processing Record 4 of 4 | Pyshma\n",
      "Processing Record 5 of 4 | Kavieng\n",
      "Processing Record 6 of 4 | Erzin\n",
      "Processing Record 7 of 4 | Codrington\n",
      "Processing Record 8 of 4 | Iwata\n",
      "Processing Record 9 of 4 | Dikson\n",
      "Processing Record 10 of 4 | Xichang\n",
      "Processing Record 11 of 4 | Vanimo\n",
      "city not found. Skipping ...\n",
      "Processing Record 12 of 4 | Hong Kong\n",
      "Processing Record 13 of 4 | Suluova\n",
      "Processing Record 14 of 4 | Nelson Bay\n",
      "Processing Record 15 of 4 | Tiksi\n",
      "city not found. Skipping ...\n",
      "Processing Record 16 of 4 | Fairbanks\n",
      "Processing Record 17 of 4 | Ormara\n",
      "Processing Record 18 of 4 | Airai\n",
      "Processing Record 19 of 4 | Abu Samrah\n",
      "Processing Record 20 of 4 | Biak\n",
      "Processing Record 21 of 4 | Lebu\n",
      "Processing Record 22 of 4 | Kruisfontein\n",
      "Processing Record 23 of 4 | Norman Wells\n",
      "Processing Record 24 of 4 | Ahipara\n",
      "Processing Record 25 of 4 | San Juan\n",
      "Processing Record 26 of 4 | Gondanglegi\n",
      "Processing Record 27 of 4 | Yulara\n",
      "Processing Record 28 of 4 | La Grande\n",
      "Processing Record 29 of 4 | Piaçabuçu\n",
      "Processing Record 30 of 4 | Nsanje\n",
      "Processing Record 31 of 4 | Tiznit Province\n",
      "Processing Record 32 of 4 | Naryshkino\n",
      "Processing Record 33 of 4 | Salinas\n",
      "Processing Record 34 of 4 | Marsh Harbour\n",
      "Processing Record 35 of 4 | Darnah\n",
      "Processing Record 36 of 4 | Faanui\n",
      "Processing Record 37 of 4 | Novopokrovka\n",
      "Processing Record 38 of 4 | Idrinskoye\n",
      "Processing Record 39 of 4 | Port Blair\n",
      "Processing Record 40 of 4 | Marzuq\n",
      "Processing Record 41 of 4 | Zhigansk\n",
      "Processing Record 42 of 4 | Mana\n",
      "Processing Record 43 of 4 | Fenoarivo\n",
      "city not found. Skipping ...\n",
      "Processing Record 44 of 4 | Belyy Yar\n",
      "city not found. Skipping ...\n",
      "Processing Record 45 of 4 | Qaanaaq\n",
      "city not found. Skipping ...\n",
      "Processing Record 46 of 4 | Tuktoyaktuk\n",
      "Processing Record 47 of 4 | Berlevåg\n",
      "Processing Record 48 of 4 | Shetpe\n",
      "Processing Record 49 of 4 | Camaná\n",
      "Processing Record 50 of 4 | Meybod\n",
      "Processing Record 0 of 5 | Caceres\n",
      "Processing Record 1 of 5 | Atuona\n"
     ]
    },
    {
     "name": "stdout",
     "output_type": "stream",
     "text": [
      "Processing Record 2 of 5 | Dukat\n",
      "Processing Record 3 of 5 | Salamiyah\n",
      "Processing Record 4 of 5 | Båtsfjord\n",
      "Processing Record 5 of 5 | Vila Velha\n",
      "Processing Record 6 of 5 | Arraial do Cabo\n",
      "Processing Record 7 of 5 | Preston\n",
      "city not found. Skipping ...\n",
      "Processing Record 8 of 5 | Labytnangi\n",
      "Processing Record 9 of 5 | Morondava\n",
      "Processing Record 10 of 5 | Valle de Allende\n",
      "Processing Record 11 of 5 | Saint-Philippe\n",
      "Processing Record 12 of 5 | Cherskiy\n",
      "Processing Record 13 of 5 | Samora Correia\n",
      "city not found. Skipping ...\n",
      "city not found. Skipping ...\n",
      "Processing Record 14 of 5 | Kaspiysk\n",
      "Processing Record 15 of 5 | Flinders\n",
      "Processing Record 16 of 5 | Mossamedes\n",
      "city not found. Skipping ...\n",
      "Processing Record 17 of 5 | Aquin\n",
      "Processing Record 18 of 5 | Soyo\n",
      "Processing Record 19 of 5 | Khonsa\n",
      "Processing Record 20 of 5 | Mount Gambier\n",
      "Processing Record 21 of 5 | Esperance\n",
      "Processing Record 22 of 5 | Saskylakh\n",
      "Processing Record 23 of 5 | Dingle\n",
      "Processing Record 24 of 5 | Saint-Leu\n",
      "Processing Record 25 of 5 | Ugoofaaru\n",
      "Processing Record 26 of 5 | Bac Lieu\n",
      "Processing Record 27 of 5 | Lompoc\n",
      "Processing Record 28 of 5 | Kinablangan\n",
      "Processing Record 29 of 5 | Najrān\n",
      "Processing Record 30 of 5 | Pevek\n",
      "Processing Record 31 of 5 | Birao\n",
      "Processing Record 32 of 5 | Tongren\n",
      "Processing Record 33 of 5 | San Joaquin\n",
      "Processing Record 34 of 5 | Touros\n",
      "Processing Record 35 of 5 | Nichinan\n",
      "Processing Record 36 of 5 | Guozhen\n",
      "Processing Record 37 of 5 | Kabalo\n",
      "Processing Record 38 of 5 | Apollonia\n",
      "Processing Record 39 of 5 | Santana\n",
      "Processing Record 40 of 5 | Gijang\n",
      "Processing Record 41 of 5 | Mazagão\n",
      "Processing Record 42 of 5 | Vershino-Darasunskiy\n",
      "Processing Record 43 of 5 | Scottsbluff\n",
      "Processing Record 44 of 5 | Warmbad\n",
      "Processing Record 45 of 5 | Paphos\n",
      "Processing Record 46 of 5 | Trojes\n",
      "Processing Record 47 of 5 | Amapá\n",
      "Processing Record 48 of 5 | Alice Springs\n",
      "Processing Record 49 of 5 | Vila Franca do Campo\n",
      "Processing Record 50 of 5 | College\n",
      "Processing Record 0 of 6 | Bilisht\n",
      "city not found. Skipping ...\n",
      "city not found. Skipping ...\n",
      "Processing Record 1 of 6 | Prince Rupert\n",
      "Processing Record 2 of 6 | Cayenne\n",
      "Processing Record 3 of 6 | Mehamn\n",
      "Processing Record 4 of 6 | Yambio\n",
      "Processing Record 5 of 6 | Derzhavīnsk\n",
      "city not found. Skipping ...\n",
      "Processing Record 6 of 6 | Omsukchan\n",
      "Processing Record 7 of 6 | Westport\n",
      "Processing Record 8 of 6 | Soure\n",
      "Processing Record 9 of 6 | Teknāf\n",
      "Processing Record 10 of 6 | Øksfjord\n",
      "Processing Record 11 of 6 | Santa Isabel Rio Negro\n",
      "Processing Record 12 of 6 | Klaksvík\n",
      "Processing Record 13 of 6 | Dunmore Town\n",
      "Processing Record 14 of 6 | Ternate\n",
      "Processing Record 15 of 6 | Cap Malheureux\n",
      "Processing Record 16 of 6 | Caravelas\n",
      "Processing Record 17 of 6 | Provideniya\n",
      "Processing Record 18 of 6 | Itaqui\n",
      "city not found. Skipping ...\n",
      "Processing Record 19 of 6 | Columbus\n",
      "Processing Record 20 of 6 | Kavaratti\n",
      "city not found. Skipping ...\n",
      "Processing Record 21 of 6 | Coahuayana Viejo\n",
      "Processing Record 22 of 6 | Salina\n",
      "Processing Record 23 of 6 | Port Lincoln\n",
      "Processing Record 24 of 6 | Qiongshan\n",
      "Processing Record 25 of 6 | Naze\n",
      "Processing Record 26 of 6 | Gizo Government Station\n",
      "Processing Record 27 of 6 | Beringovskiy\n",
      "Processing Record 28 of 6 | Patan\n",
      "Processing Record 29 of 6 | Were Īlu\n",
      "Processing Record 30 of 6 | Pangnirtung\n",
      "Processing Record 31 of 6 | Kabinda\n",
      "city not found. Skipping ...\n",
      "Processing Record 32 of 6 | Porto-Vecchio\n",
      "Processing Record 33 of 6 | Madang\n",
      "Processing Record 34 of 6 | Anadyr\n",
      "Processing Record 35 of 6 | Hofn\n",
      "Processing Record 36 of 6 | Lagoa\n",
      "Processing Record 37 of 6 | Manaquiri\n",
      "Processing Record 38 of 6 | Hailar\n",
      "Processing Record 39 of 6 | Upernavik\n",
      "Processing Record 40 of 6 | Sechura\n",
      "Processing Record 41 of 6 | Pallasovka\n",
      "Processing Record 42 of 6 | Sola\n",
      "Processing Record 43 of 6 | Yamethin\n",
      "city not found. Skipping ...\n",
      "Processing Record 44 of 6 | Jutaí\n",
      "Processing Record 45 of 6 | Bangsund\n",
      "Processing Record 46 of 6 | Salalah\n",
      "Processing Record 47 of 6 | Blagoyevo\n",
      "city not found. Skipping ...\n",
      "Processing Record 48 of 6 | Emerald\n",
      "Processing Record 49 of 6 | Killarney\n",
      "Processing Record 50 of 6 | Gopālur\n",
      "Processing Record 0 of 7 | Hualmay\n",
      "Processing Record 1 of 7 | San Patricio\n",
      "Processing Record 2 of 7 | Kahului\n",
      "Processing Record 3 of 7 | Chipinge\n",
      "Processing Record 4 of 7 | Antofagasta\n",
      "Processing Record 5 of 7 | Rio Grande\n",
      "Processing Record 6 of 7 | Saint-Augustin\n",
      "Processing Record 7 of 7 | Caborca\n",
      "Processing Record 8 of 7 | Plettenberg Bay\n",
      "Processing Record 9 of 7 | Puerto Carreño\n",
      "Processing Record 10 of 7 | Evensk\n",
      "Processing Record 11 of 7 | Cairns\n",
      "city not found. Skipping ...\n",
      "Processing Record 12 of 7 | Muli\n",
      "city not found. Skipping ...\n",
      "city not found. Skipping ...\n",
      "Processing Record 13 of 7 | Kingisepp\n",
      "Processing Record 14 of 7 | Loei\n",
      "Processing Record 15 of 7 | Metro\n",
      "Processing Record 16 of 7 | Phalombe\n",
      "city not found. Skipping ...\n",
      "Processing Record 17 of 7 | Sakakah\n",
      "Processing Record 18 of 7 | Coquimbo\n",
      "Processing Record 19 of 7 | Kiama\n",
      "Processing Record 20 of 7 | Zhangjiakou\n",
      "Processing Record 21 of 7 | Swindon\n",
      "city not found. Skipping ...\n",
      "Processing Record 22 of 7 | Natal\n",
      "Processing Record 23 of 7 | São João da Barra\n",
      "Processing Record 24 of 7 | Aného\n",
      "Processing Record 25 of 7 | Poum\n",
      "Processing Record 26 of 7 | Bairiki Village\n",
      "Processing Record 27 of 7 | Tual\n",
      "Processing Record 28 of 7 | Ilulissat\n",
      "Processing Record 29 of 7 | Hervey Bay\n",
      "Processing Record 30 of 7 | St. George's\n",
      "Processing Record 31 of 7 | Abapó\n",
      "city not found. Skipping ...\n",
      "Processing Record 32 of 7 | Urcos\n",
      "Processing Record 33 of 7 | Bariloche\n",
      "Processing Record 34 of 7 | The Pas\n",
      "Processing Record 35 of 7 | Terra Santa\n",
      "Processing Record 36 of 7 | Sandovo\n",
      "Processing Record 37 of 7 | Varna\n",
      "Processing Record 38 of 7 | Lakatoro\n",
      "Processing Record 39 of 7 | Los Llanos de Aridane\n",
      "Processing Record 40 of 7 | Mopipi\n",
      "Processing Record 41 of 7 | Inyonga\n",
      "Processing Record 42 of 7 | Jiazi\n",
      "Processing Record 43 of 7 | Kama\n",
      "Processing Record 44 of 7 | Katsuura\n",
      "Processing Record 45 of 7 | Tuatapere\n",
      "Processing Record 46 of 7 | Ntcheu\n",
      "Processing Record 47 of 7 | Souris\n",
      "Processing Record 48 of 7 | Voinka\n",
      "Processing Record 49 of 7 | Nokaneng\n",
      "Processing Record 50 of 7 | Laguna\n",
      "Processing Record 0 of 8 | Sisimiut\n",
      "Processing Record 1 of 8 | Balakhninskiy\n",
      "city not found. Skipping ...\n",
      "city not found. Skipping ...\n",
      "Processing Record 2 of 8 | Abhā\n",
      "Processing Record 3 of 8 | Hamina\n",
      "Processing Record 4 of 8 | Treinta y Tres\n",
      "Processing Record 5 of 8 | Ulladulla\n",
      "Processing Record 6 of 8 | Tessalit\n",
      "city not found. Skipping ...\n",
      "Processing Record 7 of 8 | Almeria\n",
      "Processing Record 8 of 8 | Russell\n",
      "Processing Record 9 of 8 | Guerrero Negro\n",
      "Processing Record 10 of 8 | Diego de Almagro\n",
      "Processing Record 11 of 8 | Dawlatabad\n",
      "Processing Record 12 of 8 | Rodolfo Sánchez Taboada\n",
      "Processing Record 13 of 8 | Mhlambanyatsi\n",
      "Processing Record 14 of 8 | Praia\n",
      "Processing Record 15 of 8 | Iqaluit\n",
      "Processing Record 16 of 8 | Puerto Escondido\n",
      "Processing Record 17 of 8 | Saint Anthony\n",
      "Processing Record 18 of 8 | Porto Walter\n",
      "Processing Record 19 of 8 | Izvestkovyy\n",
      "Processing Record 20 of 8 | Wenling\n",
      "Processing Record 21 of 8 | Slobozia\n",
      "Processing Record 22 of 8 | Sovetskaya\n",
      "Processing Record 23 of 8 | Mnogovershinnyy\n",
      "Processing Record 24 of 8 | Al Bardīyah\n",
      "Processing Record 25 of 8 | Gushikawa\n",
      "Processing Record 26 of 8 | Tak Bai\n",
      "Processing Record 27 of 8 | Ancud\n",
      "Processing Record 28 of 8 | Ketchikan\n",
      "Processing Record 29 of 8 | Kumul\n",
      "Processing Record 30 of 8 | Yārāda\n",
      "Processing Record 31 of 8 | Bahía Blanca\n",
      "Processing Record 32 of 8 | Sirte\n",
      "Processing Record 33 of 8 | Ylivieska\n",
      "Processing Record 34 of 8 | Nishifukuma\n",
      "Processing Record 35 of 8 | Bonfim\n",
      "Processing Record 36 of 8 | Ballina\n",
      "Processing Record 37 of 8 | Vardø\n",
      "Processing Record 38 of 8 | Buin\n",
      "Processing Record 39 of 8 | Mt. Pleasant\n",
      "Processing Record 40 of 8 | São Mateus\n",
      "Processing Record 41 of 8 | Havre-St-Pierre\n",
      "Processing Record 42 of 8 | La Orilla\n",
      "Processing Record 43 of 8 | Torbay\n",
      "city not found. Skipping ...\n",
      "Processing Record 44 of 8 | Vestmannaeyjar\n",
      "Processing Record 45 of 8 | La Asuncion\n",
      "Processing Record 46 of 8 | Kutum\n",
      "Processing Record 47 of 8 | Sundargarh\n",
      "Processing Record 48 of 8 | Sandwich\n",
      "Processing Record 49 of 8 | Bokaa\n",
      "Processing Record 50 of 8 | Broome\n"
     ]
    },
    {
     "name": "stdout",
     "output_type": "stream",
     "text": [
      "Processing Record 0 of 9 | Parkland\n",
      "Processing Record 1 of 9 | Balkanabat\n",
      "Processing Record 2 of 9 | Chengannūr\n",
      "Processing Record 3 of 9 | Slave Lake\n",
      "Processing Record 4 of 9 | Daru\n",
      "Processing Record 5 of 9 | Puerto Madero\n",
      "Processing Record 6 of 9 | Oktyabr'skiy\n",
      "Processing Record 7 of 9 | Campoverde\n",
      "Processing Record 8 of 9 | Traverse City\n",
      "Processing Record 9 of 9 | Meulaboh\n",
      "Processing Record 10 of 9 | Srīvardhan\n",
      "Processing Record 11 of 9 | Linqiong\n",
      "Processing Record 12 of 9 | Baculin\n",
      "Processing Record 13 of 9 | Kieta\n",
      "Processing Record 14 of 9 | Vao\n",
      "Processing Record 15 of 9 | Bayan\n",
      "Processing Record 16 of 9 | Formosa\n",
      "Processing Record 17 of 9 | Balabac\n",
      "Processing Record 18 of 9 | Puerto Palomas\n",
      "Processing Record 19 of 9 | Hokitika\n",
      "Processing Record 20 of 9 | Northam\n",
      "Processing Record 21 of 9 | Hackettstown\n",
      "Processing Record 22 of 9 | Atikokan\n",
      "Processing Record 23 of 9 | Cortland\n",
      "Processing Record 24 of 9 | Sistranda\n",
      "Processing Record 25 of 9 | Rozsypne\n",
      "Processing Record 26 of 9 | Passau\n",
      "Processing Record 27 of 9 | Macheng\n",
      "Processing Record 28 of 9 | Karratha\n",
      "Processing Record 29 of 9 | Saldanha\n",
      "city not found. Skipping ...\n",
      "Processing Record 30 of 9 | White Settlement\n",
      "Processing Record 31 of 9 | Bukama\n",
      "Processing Record 32 of 9 | Fenwick\n",
      "Processing Record 33 of 9 | Gigmoto\n",
      "Processing Record 34 of 9 | North Bend\n",
      "Processing Record 35 of 9 | Carutapera\n",
      "Processing Record 36 of 9 | Ivanovskaya\n",
      "Processing Record 37 of 9 | Tateyama\n",
      "Processing Record 38 of 9 | Aras\n",
      "Processing Record 39 of 9 | Lüderitz\n",
      "Processing Record 40 of 9 | Saint-Joseph\n",
      "Processing Record 41 of 9 | Iskateley\n",
      "Processing Record 42 of 9 | Tautira\n",
      "Processing Record 43 of 9 | Cockburn Town\n",
      "Processing Record 44 of 9 | Lakes Entrance\n",
      "Processing Record 45 of 9 | Durango\n",
      "Processing Record 46 of 9 | Oussouye\n",
      "Processing Record 47 of 9 | Aklavik\n",
      "Processing Record 48 of 9 | Bintulu\n",
      "Processing Record 49 of 9 | Mīzan Teferī\n",
      "Processing Record 50 of 9 | Zyryanka\n",
      "Processing Record 0 of 10 | Rawson\n",
      "Processing Record 1 of 10 | Kathmandu\n",
      "city not found. Skipping ...\n",
      "Processing Record 2 of 10 | Narsaq\n",
      "Processing Record 3 of 10 | Mozarlândia\n",
      "Processing Record 4 of 10 | Tazovsky\n",
      "Processing Record 5 of 10 | Sur\n",
      "Processing Record 6 of 10 | Tomatlán\n",
      "Processing Record 7 of 10 | San Quintín\n",
      "Processing Record 8 of 10 | São Filipe\n",
      "Processing Record 9 of 10 | Quatre Cocos\n",
      "Processing Record 10 of 10 | Pio XII\n",
      "Processing Record 11 of 10 | Stânceni\n",
      "Processing Record 12 of 10 | Makkah al Mukarramah\n",
      "Processing Record 13 of 10 | Atar\n",
      "Processing Record 14 of 10 | Roblin\n",
      "Processing Record 15 of 10 | Sunrise Manor\n",
      "Processing Record 16 of 10 | Karoi\n",
      "Processing Record 17 of 10 | Fortuna\n",
      "Processing Record 18 of 10 | Dahra\n",
      "Processing Record 19 of 10 | Haines Junction\n",
      "city not found. Skipping ...\n",
      "Processing Record 20 of 10 | Miraflores\n",
      "Processing Record 21 of 10 | Nikki\n",
      "Processing Record 22 of 10 | Río Gallegos\n",
      "Processing Record 23 of 10 | Kulhudhuffushi\n",
      "Processing Record 24 of 10 | Gambēla\n",
      "city not found. Skipping ...\n",
      "Processing Record 25 of 10 | Suşehri\n",
      "city not found. Skipping ...\n",
      "Processing Record 26 of 10 | Arman'\n",
      "Processing Record 27 of 10 | Byron Bay\n",
      "Processing Record 28 of 10 | Barra\n",
      "Processing Record 29 of 10 | Saint-Ambroise\n",
      "Processing Record 30 of 10 | Pangkalanbuun\n",
      "Processing Record 31 of 10 | Nauta\n",
      "Processing Record 32 of 10 | Waingapu\n",
      "Processing Record 33 of 10 | Erenhot\n",
      "Processing Record 34 of 10 | Makar'yev\n",
      "Processing Record 35 of 10 | Mokhsogollokh\n",
      "Processing Record 36 of 10 | Muros\n",
      "Processing Record 37 of 10 | Ustka\n",
      "Processing Record 38 of 10 | Yar-Sale\n",
      "city not found. Skipping ...\n",
      "Processing Record 39 of 10 | Lamu\n",
      "Processing Record 40 of 10 | Khovd\n",
      "Processing Record 41 of 10 | Tahe\n",
      "Processing Record 42 of 10 | San Cristobal\n",
      "Processing Record 43 of 10 | Sittwe\n",
      "Processing Record 44 of 10 | Inhambane\n",
      "Processing Record 45 of 10 | Ilhabela\n",
      "Processing Record 46 of 10 | Alekseyevsk\n",
      "Processing Record 47 of 10 | Bāfq\n",
      "Processing Record 48 of 10 | Malanje\n",
      "Processing Record 49 of 10 | Nishihara\n",
      "Processing Record 50 of 10 | Beloha\n",
      "Processing Record 0 of 11 | Rāichūr\n",
      "Processing Record 1 of 11 | Mendi\n",
      "Processing Record 2 of 11 | Forbes\n",
      "Processing Record 3 of 11 | Zyryanovsk\n",
      "Processing Record 4 of 11 | Channel-Port aux Basques\n",
      "Processing Record 5 of 11 | Verkhnevilyuysk\n",
      "Processing Record 6 of 11 | Trairi\n",
      "Processing Record 7 of 11 | Dvinskoy\n",
      "Processing Record 8 of 11 | Açucena\n",
      "Processing Record 9 of 11 | Vaitape\n",
      "Processing Record 10 of 11 | Jönköping\n",
      "Processing Record 11 of 11 | Laas\n",
      "Processing Record 12 of 11 | Henties Bay\n",
      "Processing Record 13 of 11 | Conceição da Barra\n",
      "Processing Record 14 of 11 | Aktash\n",
      "city not found. Skipping ...\n",
      "Processing Record 15 of 11 | San Buenaventura\n",
      "Processing Record 16 of 11 | Wundanyi\n",
      "Processing Record 17 of 11 | Kannur\n",
      "Processing Record 18 of 11 | Apam\n",
      "Processing Record 19 of 11 | Oktyabr'skoye\n",
      "Processing Record 20 of 11 | Harstad\n",
      "Processing Record 21 of 11 | Honggang\n",
      "Processing Record 22 of 11 | Socastee\n",
      "Processing Record 23 of 11 | Warrnambool\n",
      "Processing Record 24 of 11 | Southbridge\n",
      "Processing Record 25 of 11 | Langsa\n",
      "Processing Record 26 of 11 | Skotina\n",
      "Processing Record 27 of 11 | Nieuw Amsterdam\n",
      "Processing Record 28 of 11 | Kurchum\n",
      "Processing Record 29 of 11 | Lavrentiya\n",
      "Processing Record 30 of 11 | Zhangye\n",
      "Processing Record 31 of 11 | Preobrazheniye\n",
      "Processing Record 32 of 11 | Cabo San Lucas\n",
      "Processing Record 33 of 11 | Alakurtti\n",
      "Processing Record 34 of 11 | Ust-Maya\n",
      "city not found. Skipping ...\n",
      "city not found. Skipping ...\n",
      "Processing Record 35 of 11 | Gwadar\n",
      "Processing Record 36 of 11 | Deputatsky\n",
      "Processing Record 37 of 11 | Nanortalik\n",
      "Processing Record 38 of 11 | Quixadá\n",
      "city not found. Skipping ...\n",
      "Processing Record 39 of 11 | San Fernando del Valle de Catamarca\n",
      "Processing Record 40 of 11 | Ürümqi\n",
      "Processing Record 41 of 11 | Havøysund\n",
      "Processing Record 42 of 11 | Kosa\n",
      "Processing Record 43 of 11 | Sandnessjøen\n",
      "Processing Record 44 of 11 | Isangel\n",
      "Processing Record 45 of 11 | Jianhu\n",
      "Processing Record 46 of 11 | Marawi\n",
      "Processing Record 47 of 11 | Rundu\n",
      "Processing Record 48 of 11 | Nānākuli\n",
      "Processing Record 49 of 11 | Charters Towers\n",
      "Processing Record 50 of 11 | Homer\n",
      "Processing Record 0 of 12 | Kiryat Gat\n",
      "Processing Record 1 of 12 | Bosaso\n",
      "city not found. Skipping ...\n",
      "Processing Record 2 of 12 | Biscarrosse\n",
      "Processing Record 3 of 12 | Rafaela\n",
      "Processing Record 4 of 12 | Kamina\n",
      "Processing Record 5 of 12 | Keetmanshoop\n",
      "city not found. Skipping ...\n",
      "Processing Record 6 of 12 | Anamur\n",
      "Processing Record 7 of 12 | Richards Bay\n",
      "Processing Record 8 of 12 | Sīrjān\n",
      "Processing Record 9 of 12 | Dagana\n",
      "-------------------------\n",
      "Data Retrieval Complete\n",
      "-------------------------\n"
     ]
    }
   ],
   "source": [
    "# set up empty lists for needed characters\n",
    "city_id = []\n",
    "city_name = []\n",
    "cloudiness = []\n",
    "country = []\n",
    "date = []\n",
    "humidity = []\n",
    "lat = []\n",
    "lng = []\n",
    "max_temp = []\n",
    "wind_speed = []\n",
    "processingRecord = 0\n",
    "setNumber = 1\n",
    "\n",
    "#start processing record at 1\n",
    "processingRecord = 1\n",
    "setNumber = 1\n",
    "\n",
    "print(\"Beginning Data Retrieval\")\n",
    "print(\"-------------------------\")\n",
    "\n",
    "# loop through each city\n",
    "for city in cities:\n",
    "    \n",
    "#Exception handling\n",
    "    try:\n",
    "        response = requests.get(queryURL + city).json()\n",
    "        city_id.append(response['id'])\n",
    "        city_name.append(response['name']) \n",
    "        cloudiness.append(response['clouds']['all'])\n",
    "        country.append(response['sys']['country'])\n",
    "        date.append(response['dt'])\n",
    "        humidity.append(response['main']['humidity']) \n",
    "        lat.append(response['coord']['lat'])\n",
    "        lng.append(response['coord']['lon'])\n",
    "        max_temp.append(response['main']['temp_max']) \n",
    "        wind_speed.append(response['wind']['speed'])\n",
    "        cityResponse = response['name']   \n",
    "        if processingRecord > 49:\n",
    "            processingRecord = 0\n",
    "            setNumber = setNumber + 1\n",
    "    \n",
    "        else:\n",
    "            processingRecord = processingRecord + 1\n",
    "\n",
    "        print(f\"Processing Record {processingRecord} of {setNumber} | {cityResponse}\")\n",
    "        \n",
    "    except:\n",
    "        print(\"city not found. Skipping ...\")\n",
    "    continue\n",
    "    \n",
    "print(\"-------------------------\")\n",
    "print(\"Data Retrieval Complete\")\n",
    "print(\"-------------------------\")"
   ]
  },
  {
   "cell_type": "markdown",
   "metadata": {},
   "source": [
    "### Convert Raw Data to DataFrame\n",
    "* Export the city data into a .csv.\n",
    "* Display the DataFrame"
   ]
  },
  {
   "cell_type": "code",
   "execution_count": 5,
   "metadata": {},
   "outputs": [
    {
     "data": {
      "text/html": [
       "<div>\n",
       "<style scoped>\n",
       "    .dataframe tbody tr th:only-of-type {\n",
       "        vertical-align: middle;\n",
       "    }\n",
       "\n",
       "    .dataframe tbody tr th {\n",
       "        vertical-align: top;\n",
       "    }\n",
       "\n",
       "    .dataframe thead th {\n",
       "        text-align: right;\n",
       "    }\n",
       "</style>\n",
       "<table border=\"1\" class=\"dataframe\">\n",
       "  <thead>\n",
       "    <tr style=\"text-align: right;\">\n",
       "      <th></th>\n",
       "      <th>City ID</th>\n",
       "      <th>City Name</th>\n",
       "      <th>Cloudiness</th>\n",
       "      <th>Country</th>\n",
       "      <th>Date</th>\n",
       "      <th>Humidity</th>\n",
       "      <th>Latitude</th>\n",
       "      <th>Longitude</th>\n",
       "      <th>Max Temperature</th>\n",
       "      <th>Wind Speed</th>\n",
       "    </tr>\n",
       "  </thead>\n",
       "  <tbody>\n",
       "    <tr>\n",
       "      <th>0</th>\n",
       "      <td>2025579</td>\n",
       "      <td>Chegdomyn</td>\n",
       "      <td>0</td>\n",
       "      <td>RU</td>\n",
       "      <td>1658710985</td>\n",
       "      <td>58</td>\n",
       "      <td>51.1167</td>\n",
       "      <td>133.0167</td>\n",
       "      <td>77.34</td>\n",
       "      <td>2.95</td>\n",
       "    </tr>\n",
       "    <tr>\n",
       "      <th>1</th>\n",
       "      <td>110690</td>\n",
       "      <td>Faya</td>\n",
       "      <td>100</td>\n",
       "      <td>SA</td>\n",
       "      <td>1658710901</td>\n",
       "      <td>64</td>\n",
       "      <td>18.3851</td>\n",
       "      <td>42.4509</td>\n",
       "      <td>63.05</td>\n",
       "      <td>8.95</td>\n",
       "    </tr>\n",
       "    <tr>\n",
       "      <th>2</th>\n",
       "      <td>3641099</td>\n",
       "      <td>El Vigia</td>\n",
       "      <td>36</td>\n",
       "      <td>VE</td>\n",
       "      <td>1658710986</td>\n",
       "      <td>80</td>\n",
       "      <td>8.6219</td>\n",
       "      <td>-71.6506</td>\n",
       "      <td>78.48</td>\n",
       "      <td>4.56</td>\n",
       "    </tr>\n",
       "    <tr>\n",
       "      <th>3</th>\n",
       "      <td>4031742</td>\n",
       "      <td>Egvekinot</td>\n",
       "      <td>100</td>\n",
       "      <td>RU</td>\n",
       "      <td>1658710887</td>\n",
       "      <td>62</td>\n",
       "      <td>66.3167</td>\n",
       "      <td>-179.1667</td>\n",
       "      <td>42.66</td>\n",
       "      <td>3.02</td>\n",
       "    </tr>\n",
       "    <tr>\n",
       "      <th>4</th>\n",
       "      <td>535113</td>\n",
       "      <td>Lipin Bor</td>\n",
       "      <td>100</td>\n",
       "      <td>RU</td>\n",
       "      <td>1658710987</td>\n",
       "      <td>96</td>\n",
       "      <td>60.2622</td>\n",
       "      <td>37.9763</td>\n",
       "      <td>61.97</td>\n",
       "      <td>3.49</td>\n",
       "    </tr>\n",
       "  </tbody>\n",
       "</table>\n",
       "</div>"
      ],
      "text/plain": [
       "   City ID  City Name  Cloudiness Country        Date  Humidity  Latitude  \\\n",
       "0  2025579  Chegdomyn           0      RU  1658710985        58   51.1167   \n",
       "1   110690       Faya         100      SA  1658710901        64   18.3851   \n",
       "2  3641099   El Vigia          36      VE  1658710986        80    8.6219   \n",
       "3  4031742  Egvekinot         100      RU  1658710887        62   66.3167   \n",
       "4   535113  Lipin Bor         100      RU  1658710987        96   60.2622   \n",
       "\n",
       "   Longitude  Max Temperature  Wind Speed  \n",
       "0   133.0167            77.34        2.95  \n",
       "1    42.4509            63.05        8.95  \n",
       "2   -71.6506            78.48        4.56  \n",
       "3  -179.1667            42.66        3.02  \n",
       "4    37.9763            61.97        3.49  "
      ]
     },
     "execution_count": 5,
     "metadata": {},
     "output_type": "execute_result"
    }
   ],
   "source": [
    "weatherDict = {\n",
    "    \"City ID\":city_id, \n",
    "    \"City Name\":city_name, \n",
    "    \"Cloudiness\":cloudiness,\n",
    "    \"Country\":country, \n",
    "    \"Date\":date, \n",
    "    \"Humidity\":humidity,\n",
    "    \"Latitude\":lat,\n",
    "    \"Longitude\":lng, \n",
    "    \"Max Temperature\":max_temp,\n",
    "    \"Wind Speed\":wind_speed\n",
    "}\n",
    "weatherDict = pd.DataFrame(weatherDict)\n",
    "weatherDict.head()"
   ]
  },
  {
   "cell_type": "code",
   "execution_count": 6,
   "metadata": {},
   "outputs": [
    {
     "data": {
      "text/plain": [
       "City ID            569\n",
       "City Name          569\n",
       "Cloudiness         569\n",
       "Country            569\n",
       "Date               569\n",
       "Humidity           569\n",
       "Latitude           569\n",
       "Longitude          569\n",
       "Max Temperature    569\n",
       "Wind Speed         569\n",
       "dtype: int64"
      ]
     },
     "execution_count": 6,
     "metadata": {},
     "output_type": "execute_result"
    }
   ],
   "source": [
    "weatherDict.count()"
   ]
  },
  {
   "cell_type": "code",
   "execution_count": 7,
   "metadata": {},
   "outputs": [],
   "source": [
    "weatherDict.to_csv(\"output_data/weatherDict.csv\")"
   ]
  },
  {
   "cell_type": "markdown",
   "metadata": {},
   "source": [
    "## Inspect the data and remove the cities where the humidity > 100%.\n",
    "----\n",
    "Skip this step if there are no cities that have humidity > 100%. "
   ]
  },
  {
   "cell_type": "code",
   "execution_count": 8,
   "metadata": {},
   "outputs": [
    {
     "data": {
      "text/html": [
       "<div>\n",
       "<style scoped>\n",
       "    .dataframe tbody tr th:only-of-type {\n",
       "        vertical-align: middle;\n",
       "    }\n",
       "\n",
       "    .dataframe tbody tr th {\n",
       "        vertical-align: top;\n",
       "    }\n",
       "\n",
       "    .dataframe thead th {\n",
       "        text-align: right;\n",
       "    }\n",
       "</style>\n",
       "<table border=\"1\" class=\"dataframe\">\n",
       "  <thead>\n",
       "    <tr style=\"text-align: right;\">\n",
       "      <th></th>\n",
       "      <th>City ID</th>\n",
       "      <th>Cloudiness</th>\n",
       "      <th>Date</th>\n",
       "      <th>Humidity</th>\n",
       "      <th>Latitude</th>\n",
       "      <th>Longitude</th>\n",
       "      <th>Max Temperature</th>\n",
       "      <th>Wind Speed</th>\n",
       "    </tr>\n",
       "  </thead>\n",
       "  <tbody>\n",
       "    <tr>\n",
       "      <th>count</th>\n",
       "      <td>5.590000e+02</td>\n",
       "      <td>559.000000</td>\n",
       "      <td>5.590000e+02</td>\n",
       "      <td>559.000000</td>\n",
       "      <td>559.000000</td>\n",
       "      <td>559.000000</td>\n",
       "      <td>559.000000</td>\n",
       "      <td>559.000000</td>\n",
       "    </tr>\n",
       "    <tr>\n",
       "      <th>mean</th>\n",
       "      <td>2.628000e+06</td>\n",
       "      <td>52.048301</td>\n",
       "      <td>1.658711e+09</td>\n",
       "      <td>71.883721</td>\n",
       "      <td>19.110830</td>\n",
       "      <td>20.159943</td>\n",
       "      <td>69.384347</td>\n",
       "      <td>7.175116</td>\n",
       "    </tr>\n",
       "    <tr>\n",
       "      <th>std</th>\n",
       "      <td>1.697073e+06</td>\n",
       "      <td>41.044990</td>\n",
       "      <td>1.394231e+02</td>\n",
       "      <td>19.820676</td>\n",
       "      <td>33.332785</td>\n",
       "      <td>90.744005</td>\n",
       "      <td>13.372363</td>\n",
       "      <td>4.906290</td>\n",
       "    </tr>\n",
       "    <tr>\n",
       "      <th>min</th>\n",
       "      <td>6.001900e+04</td>\n",
       "      <td>0.000000</td>\n",
       "      <td>1.658710e+09</td>\n",
       "      <td>1.000000</td>\n",
       "      <td>-54.800000</td>\n",
       "      <td>-179.166700</td>\n",
       "      <td>24.040000</td>\n",
       "      <td>0.000000</td>\n",
       "    </tr>\n",
       "    <tr>\n",
       "      <th>25%</th>\n",
       "      <td>1.337618e+06</td>\n",
       "      <td>7.000000</td>\n",
       "      <td>1.658711e+09</td>\n",
       "      <td>63.000000</td>\n",
       "      <td>-8.216400</td>\n",
       "      <td>-59.543350</td>\n",
       "      <td>60.615000</td>\n",
       "      <td>3.440000</td>\n",
       "    </tr>\n",
       "    <tr>\n",
       "      <th>50%</th>\n",
       "      <td>2.160735e+06</td>\n",
       "      <td>53.000000</td>\n",
       "      <td>1.658711e+09</td>\n",
       "      <td>76.000000</td>\n",
       "      <td>22.075200</td>\n",
       "      <td>26.891000</td>\n",
       "      <td>71.130000</td>\n",
       "      <td>5.790000</td>\n",
       "    </tr>\n",
       "    <tr>\n",
       "      <th>75%</th>\n",
       "      <td>3.662625e+06</td>\n",
       "      <td>99.000000</td>\n",
       "      <td>1.658711e+09</td>\n",
       "      <td>87.000000</td>\n",
       "      <td>46.541650</td>\n",
       "      <td>100.975850</td>\n",
       "      <td>79.260000</td>\n",
       "      <td>10.135000</td>\n",
       "    </tr>\n",
       "    <tr>\n",
       "      <th>max</th>\n",
       "      <td>7.671223e+06</td>\n",
       "      <td>100.000000</td>\n",
       "      <td>1.658711e+09</td>\n",
       "      <td>99.000000</td>\n",
       "      <td>78.218600</td>\n",
       "      <td>179.316700</td>\n",
       "      <td>105.870000</td>\n",
       "      <td>24.610000</td>\n",
       "    </tr>\n",
       "  </tbody>\n",
       "</table>\n",
       "</div>"
      ],
      "text/plain": [
       "            City ID  Cloudiness          Date    Humidity    Latitude  \\\n",
       "count  5.590000e+02  559.000000  5.590000e+02  559.000000  559.000000   \n",
       "mean   2.628000e+06   52.048301  1.658711e+09   71.883721   19.110830   \n",
       "std    1.697073e+06   41.044990  1.394231e+02   19.820676   33.332785   \n",
       "min    6.001900e+04    0.000000  1.658710e+09    1.000000  -54.800000   \n",
       "25%    1.337618e+06    7.000000  1.658711e+09   63.000000   -8.216400   \n",
       "50%    2.160735e+06   53.000000  1.658711e+09   76.000000   22.075200   \n",
       "75%    3.662625e+06   99.000000  1.658711e+09   87.000000   46.541650   \n",
       "max    7.671223e+06  100.000000  1.658711e+09   99.000000   78.218600   \n",
       "\n",
       "        Longitude  Max Temperature  Wind Speed  \n",
       "count  559.000000       559.000000  559.000000  \n",
       "mean    20.159943        69.384347    7.175116  \n",
       "std     90.744005        13.372363    4.906290  \n",
       "min   -179.166700        24.040000    0.000000  \n",
       "25%    -59.543350        60.615000    3.440000  \n",
       "50%     26.891000        71.130000    5.790000  \n",
       "75%    100.975850        79.260000   10.135000  \n",
       "max    179.316700       105.870000   24.610000  "
      ]
     },
     "execution_count": 8,
     "metadata": {},
     "output_type": "execute_result"
    }
   ],
   "source": [
    "maxHumid = weatherDict.loc[weatherDict['Humidity'] != 100]\n",
    "maxHumid.describe()"
   ]
  },
  {
   "cell_type": "code",
   "execution_count": 9,
   "metadata": {},
   "outputs": [
    {
     "data": {
      "text/plain": [
       "City ID            559\n",
       "City Name          559\n",
       "Cloudiness         559\n",
       "Country            559\n",
       "Date               559\n",
       "Humidity           559\n",
       "Latitude           559\n",
       "Longitude          559\n",
       "Max Temperature    559\n",
       "Wind Speed         559\n",
       "dtype: int64"
      ]
     },
     "execution_count": 9,
     "metadata": {},
     "output_type": "execute_result"
    }
   ],
   "source": [
    "#  Get the indices of cities that have humidity over 100%.\n",
    "maxHumid.count()"
   ]
  },
  {
   "cell_type": "code",
   "execution_count": 10,
   "metadata": {},
   "outputs": [],
   "source": [
    "# Make a new DataFrame equal to the city data to drop all humidity outliers by index.\n",
    "# Passing \"inplace=False\" will make a copy of the city_data DataFrame, which we call \"clean_city_data\".\n"
   ]
  },
  {
   "cell_type": "code",
   "execution_count": 11,
   "metadata": {},
   "outputs": [
    {
     "data": {
      "text/html": [
       "<div>\n",
       "<style scoped>\n",
       "    .dataframe tbody tr th:only-of-type {\n",
       "        vertical-align: middle;\n",
       "    }\n",
       "\n",
       "    .dataframe tbody tr th {\n",
       "        vertical-align: top;\n",
       "    }\n",
       "\n",
       "    .dataframe thead th {\n",
       "        text-align: right;\n",
       "    }\n",
       "</style>\n",
       "<table border=\"1\" class=\"dataframe\">\n",
       "  <thead>\n",
       "    <tr style=\"text-align: right;\">\n",
       "      <th></th>\n",
       "      <th>City ID</th>\n",
       "      <th>City Name</th>\n",
       "      <th>Cloudiness</th>\n",
       "      <th>Country</th>\n",
       "      <th>Date</th>\n",
       "      <th>Humidity</th>\n",
       "      <th>Latitude</th>\n",
       "      <th>Longitude</th>\n",
       "      <th>Max Temperature</th>\n",
       "      <th>Wind Speed</th>\n",
       "    </tr>\n",
       "  </thead>\n",
       "  <tbody>\n",
       "    <tr>\n",
       "      <th>0</th>\n",
       "      <td>2025579</td>\n",
       "      <td>Chegdomyn</td>\n",
       "      <td>0</td>\n",
       "      <td>RU</td>\n",
       "      <td>1658710985</td>\n",
       "      <td>58</td>\n",
       "      <td>51.1167</td>\n",
       "      <td>133.0167</td>\n",
       "      <td>77.34</td>\n",
       "      <td>2.95</td>\n",
       "    </tr>\n",
       "    <tr>\n",
       "      <th>1</th>\n",
       "      <td>110690</td>\n",
       "      <td>Faya</td>\n",
       "      <td>100</td>\n",
       "      <td>SA</td>\n",
       "      <td>1658710901</td>\n",
       "      <td>64</td>\n",
       "      <td>18.3851</td>\n",
       "      <td>42.4509</td>\n",
       "      <td>63.05</td>\n",
       "      <td>8.95</td>\n",
       "    </tr>\n",
       "    <tr>\n",
       "      <th>2</th>\n",
       "      <td>3641099</td>\n",
       "      <td>El Vigia</td>\n",
       "      <td>36</td>\n",
       "      <td>VE</td>\n",
       "      <td>1658710986</td>\n",
       "      <td>80</td>\n",
       "      <td>8.6219</td>\n",
       "      <td>-71.6506</td>\n",
       "      <td>78.48</td>\n",
       "      <td>4.56</td>\n",
       "    </tr>\n",
       "    <tr>\n",
       "      <th>3</th>\n",
       "      <td>4031742</td>\n",
       "      <td>Egvekinot</td>\n",
       "      <td>100</td>\n",
       "      <td>RU</td>\n",
       "      <td>1658710887</td>\n",
       "      <td>62</td>\n",
       "      <td>66.3167</td>\n",
       "      <td>-179.1667</td>\n",
       "      <td>42.66</td>\n",
       "      <td>3.02</td>\n",
       "    </tr>\n",
       "    <tr>\n",
       "      <th>4</th>\n",
       "      <td>535113</td>\n",
       "      <td>Lipin Bor</td>\n",
       "      <td>100</td>\n",
       "      <td>RU</td>\n",
       "      <td>1658710987</td>\n",
       "      <td>96</td>\n",
       "      <td>60.2622</td>\n",
       "      <td>37.9763</td>\n",
       "      <td>61.97</td>\n",
       "      <td>3.49</td>\n",
       "    </tr>\n",
       "  </tbody>\n",
       "</table>\n",
       "</div>"
      ],
      "text/plain": [
       "   City ID  City Name  Cloudiness Country        Date  Humidity  Latitude  \\\n",
       "0  2025579  Chegdomyn           0      RU  1658710985        58   51.1167   \n",
       "1   110690       Faya         100      SA  1658710901        64   18.3851   \n",
       "2  3641099   El Vigia          36      VE  1658710986        80    8.6219   \n",
       "3  4031742  Egvekinot         100      RU  1658710887        62   66.3167   \n",
       "4   535113  Lipin Bor         100      RU  1658710987        96   60.2622   \n",
       "\n",
       "   Longitude  Max Temperature  Wind Speed  \n",
       "0   133.0167            77.34        2.95  \n",
       "1    42.4509            63.05        8.95  \n",
       "2   -71.6506            78.48        4.56  \n",
       "3  -179.1667            42.66        3.02  \n",
       "4    37.9763            61.97        3.49  "
      ]
     },
     "execution_count": 11,
     "metadata": {},
     "output_type": "execute_result"
    }
   ],
   "source": [
    "maxHumid.head()"
   ]
  },
  {
   "cell_type": "markdown",
   "metadata": {},
   "source": [
    "## Plotting the Data\n",
    "* Use proper labeling of the plots using plot titles (including date of analysis) and axes labels.\n",
    "* Save the plotted figures as .pngs."
   ]
  },
  {
   "cell_type": "markdown",
   "metadata": {},
   "source": [
    "## Latitude vs. Temperature Plot"
   ]
  },
  {
   "cell_type": "code",
   "execution_count": 12,
   "metadata": {
    "scrolled": true
   },
   "outputs": [
    {
     "data": {
      "image/png": "[encoded data removed]",
      "text/plain": [
       "<Figure size 432x288 with 1 Axes>"
      ]
     },
     "metadata": {
      "needs_background": "light"
     },
     "output_type": "display_data"
    }
   ],
   "source": [
    "plt.scatter(maxHumid[\"Latitude\"], maxHumid[\"Max Temperature\"])\n",
    "plt.title(\"City Latitude vs Max Temperature (7/21/22)\")\n",
    "plt.xlabel(\"Latitude\")\n",
    "plt.ylabel(\"Max Temperature (F)\")\n",
    "plt.grid()\n",
    "plt.show()"
   ]
  },
  {
   "cell_type": "markdown",
   "metadata": {},
   "source": [
    "## Latitude vs. Humidity Plot"
   ]
  },
  {
   "cell_type": "code",
   "execution_count": 13,
   "metadata": {},
   "outputs": [
    {
     "data": {
      "image/png": "[encoded data removed]",
      "text/plain": [
       "<Figure size 432x288 with 1 Axes>"
      ]
     },
     "metadata": {
      "needs_background": "light"
     },
     "output_type": "display_data"
    }
   ],
   "source": [
    "plt.scatter(maxHumid[\"Latitude\"], maxHumid[\"Humidity\"])\n",
    "plt.title(\"City Latitude vs Humidity (7/21/22)\")\n",
    "plt.xlabel(\"Latitude\")\n",
    "plt.ylabel(\"Humidity (%)\")\n",
    "plt.grid()\n",
    "plt.show()"
   ]
  },
  {
   "cell_type": "markdown",
   "metadata": {},
   "source": [
    "## Latitude vs. Cloudiness Plot"
   ]
  },
  {
   "cell_type": "code",
   "execution_count": 14,
   "metadata": {},
   "outputs": [
    {
     "data": {
      "image/png": "[encoded data removed]",
      "text/plain": [
       "<Figure size 432x288 with 1 Axes>"
      ]
     },
     "metadata": {
      "needs_background": "light"
     },
     "output_type": "display_data"
    }
   ],
   "source": [
    "plt.scatter(maxHumid[\"Latitude\"], maxHumid[\"Cloudiness\"])\n",
    "plt.title(\"City Latitude vs Cloudiness (7/21/22)\")\n",
    "plt.xlabel(\"Latitude\")\n",
    "plt.ylabel(\"Cloudiness (%)\")\n",
    "plt.grid()\n",
    "plt.show()"
   ]
  },
  {
   "cell_type": "markdown",
   "metadata": {},
   "source": [
    "## Latitude vs. Wind Speed Plot"
   ]
  },
  {
   "cell_type": "code",
   "execution_count": 15,
   "metadata": {},
   "outputs": [
    {
     "data": {
      "image/png": "[encoded data removed]",
      "text/plain": [
       "<Figure size 432x288 with 1 Axes>"
      ]
     },
     "metadata": {
      "needs_background": "light"
     },
     "output_type": "display_data"
    }
   ],
   "source": [
    "plt.scatter(maxHumid[\"Latitude\"], maxHumid[\"Wind Speed\"])\n",
    "plt.title(\"City Latitude vs Wind Speed (7/21/22)\")\n",
    "plt.xlabel(\"Latitude\")\n",
    "plt.ylabel(\"Wind Speed (mph)\")\n",
    "plt.ylim(0,45)\n",
    "plt.grid()\n",
    "plt.show()"
   ]
  },
  {
   "cell_type": "markdown",
   "metadata": {},
   "source": [
    "## Linear Regression"
   ]
  },
  {
   "cell_type": "code",
   "execution_count": 16,
   "metadata": {},
   "outputs": [],
   "source": [
    "north = maxHumid['Latitude'] >= 0\n",
    "northernHem = maxHumid[north]\n",
    "southernHem = maxHumid[~north]"
   ]
  },
  {
   "cell_type": "markdown",
   "metadata": {},
   "source": [
    " Northern Hemisphere - Max Temp vs. Latitude Linear Regression"
   ]
  },
  {
   "cell_type": "code",
   "execution_count": 17,
   "metadata": {},
   "outputs": [
    {
     "name": "stdout",
     "output_type": "stream",
     "text": [
      "The r-value is 0.4175683096852664\n"
     ]
    },
    {
     "data": {
      "image/png": "[encoded data removed]",
      "text/plain": [
       "<Figure size 432x288 with 1 Axes>"
      ]
     },
     "metadata": {
      "needs_background": "light"
     },
     "output_type": "display_data"
    }
   ],
   "source": [
    "x_values = northernHem['Latitude']\n",
    "y_values = northernHem['Max Temperature']\n",
    "(slope, intercept, rvalue, pvalue, stderr) = linregress(x_values, y_values)\n",
    "regress_values = x_values * slope + intercept\n",
    "line_eq = \"y = \" + str(round(slope,2)) + \"x + \" + str(round(intercept,2))\n",
    "plt.scatter(x_values,y_values)\n",
    "plt.plot(x_values,regress_values,\"r-\")\n",
    "plt.xlabel('Latitude')\n",
    "plt.ylabel('Max Temp')\n",
    "print(f\"The r-value is {rvalue**2}\")\n",
    "plt.annotate(line_eq,(10,40),fontsize=15,color=\"red\")\n",
    "plt.show()\n"
   ]
  },
  {
   "cell_type": "markdown",
   "metadata": {},
   "source": [
    "####  Southern Hemisphere - Max Temp vs. Latitude Linear Regression"
   ]
  },
  {
   "cell_type": "code",
   "execution_count": 18,
   "metadata": {},
   "outputs": [
    {
     "name": "stdout",
     "output_type": "stream",
     "text": [
      "The r-value is 0.6287596027163292\n"
     ]
    },
    {
     "data": {
      "image/png": "[encoded data removed]",
      "text/plain": [
       "<Figure size 432x288 with 1 Axes>"
      ]
     },
     "metadata": {
      "needs_background": "light"
     },
     "output_type": "display_data"
    }
   ],
   "source": [
    "x_values = southernHem['Latitude']\n",
    "y_values = southernHem['Max Temperature']\n",
    "(slope, intercept, rvalue, pvalue, stderr) = linregress(x_values, y_values)\n",
    "regress_values = x_values * slope + intercept\n",
    "line_eq = \"y = \" + str(round(slope,2)) + \"x + \" + str(round(intercept,2))\n",
    "plt.scatter(x_values,y_values)\n",
    "plt.plot(x_values,regress_values,\"r-\")\n",
    "plt.xlabel('Latitude')\n",
    "plt.ylabel('Max Temp')\n",
    "print(f\"The r-value is {rvalue**2}\")\n",
    "plt.annotate(line_eq,(-50,80),fontsize=15,color=\"red\")\n",
    "plt.show()"
   ]
  },
  {
   "cell_type": "markdown",
   "metadata": {},
   "source": [
    "####  Northern Hemisphere - Humidity (%) vs. Latitude Linear Regression"
   ]
  },
  {
   "cell_type": "code",
   "execution_count": 19,
   "metadata": {},
   "outputs": [
    {
     "name": "stdout",
     "output_type": "stream",
     "text": [
      "The r-value is 6.651948290110827e-06\n"
     ]
    },
    {
     "data": {
      "image/png": "[encoded data removed]",
      "text/plain": [
       "<Figure size 432x288 with 1 Axes>"
      ]
     },
     "metadata": {
      "needs_background": "light"
     },
     "output_type": "display_data"
    }
   ],
   "source": [
    "x_values = northernHem['Latitude']\n",
    "y_values = northernHem['Humidity']\n",
    "(slope, intercept, rvalue, pvalue, stderr) = linregress(x_values, y_values)\n",
    "regress_values = x_values * slope + intercept\n",
    "line_eq = \"y = \" + str(round(slope,2)) + \"x + \" + str(round(intercept,2))\n",
    "plt.scatter(x_values,y_values)\n",
    "plt.plot(x_values,regress_values,\"r-\")\n",
    "plt.xlabel('Latitude')\n",
    "plt.ylabel('Humidity')\n",
    "print(f\"The r-value is {rvalue**2}\")\n",
    "plt.annotate(line_eq,(40,10),fontsize=15,color=\"red\")\n",
    "plt.show()"
   ]
  },
  {
   "cell_type": "markdown",
   "metadata": {},
   "source": [
    "####  Southern Hemisphere - Humidity (%) vs. Latitude Linear Regression"
   ]
  },
  {
   "cell_type": "code",
   "execution_count": 20,
   "metadata": {},
   "outputs": [
    {
     "name": "stdout",
     "output_type": "stream",
     "text": [
      "The r-value is 0.0021620885957578527\n"
     ]
    },
    {
     "data": {
      "image/png": "[encoded data removed]",
      "text/plain": [
       "<Figure size 432x288 with 1 Axes>"
      ]
     },
     "metadata": {
      "needs_background": "light"
     },
     "output_type": "display_data"
    }
   ],
   "source": [
    "x_values = southernHem['Latitude']\n",
    "y_values = southernHem['Humidity']\n",
    "(slope, intercept, rvalue, pvalue, stderr) = linregress(x_values, y_values)\n",
    "regress_values = x_values * slope + intercept\n",
    "line_eq = \"y = \" + str(round(slope,2)) + \"x + \" + str(round(intercept,2))\n",
    "plt.scatter(x_values,y_values)\n",
    "plt.plot(x_values,regress_values,\"r-\")\n",
    "plt.xlabel('Latitude')\n",
    "plt.ylabel('Humidity')\n",
    "print(f\"The r-value is {rvalue**2}\")\n",
    "plt.annotate(line_eq,(-50,20),fontsize=15,color=\"red\")\n",
    "plt.show()"
   ]
  },
  {
   "cell_type": "markdown",
   "metadata": {},
   "source": [
    "####  Northern Hemisphere - Cloudiness (%) vs. Latitude Linear Regression"
   ]
  },
  {
   "cell_type": "code",
   "execution_count": 21,
   "metadata": {},
   "outputs": [
    {
     "name": "stdout",
     "output_type": "stream",
     "text": [
      "The r-value is 0.0002265280258659084\n"
     ]
    },
    {
     "data": {
      "image/png": "[encoded data removed]",
      "text/plain": [
       "<Figure size 432x288 with 1 Axes>"
      ]
     },
     "metadata": {
      "needs_background": "light"
     },
     "output_type": "display_data"
    }
   ],
   "source": [
    "x_values = northernHem['Latitude']\n",
    "y_values = northernHem['Cloudiness']\n",
    "(slope, intercept, rvalue, pvalue, stderr) = linregress(x_values, y_values)\n",
    "regress_values = x_values * slope + intercept\n",
    "line_eq = \"y = \" + str(round(slope,2)) + \"x + \" + str(round(intercept,2))\n",
    "plt.scatter(x_values,y_values)\n",
    "plt.plot(x_values,regress_values,\"r-\")\n",
    "plt.xlabel('Latitude')\n",
    "plt.ylabel('Cloudiness')\n",
    "print(f\"The r-value is {rvalue**2}\")\n",
    "plt.annotate(line_eq,(40,10),fontsize=15,color=\"red\")\n",
    "plt.show()"
   ]
  },
  {
   "cell_type": "markdown",
   "metadata": {},
   "source": [
    "####  Southern Hemisphere - Cloudiness (%) vs. Latitude Linear Regression"
   ]
  },
  {
   "cell_type": "code",
   "execution_count": 22,
   "metadata": {},
   "outputs": [
    {
     "name": "stdout",
     "output_type": "stream",
     "text": [
      "The r-value is 0.0030568906870578807\n"
     ]
    },
    {
     "data": {
      "image/png": "[encoded data removed]",
      "text/plain": [
       "<Figure size 432x288 with 1 Axes>"
      ]
     },
     "metadata": {
      "needs_background": "light"
     },
     "output_type": "display_data"
    }
   ],
   "source": [
    "x_values = southernHem['Latitude']\n",
    "y_values = southernHem['Cloudiness']\n",
    "(slope, intercept, rvalue, pvalue, stderr) = linregress(x_values, y_values)\n",
    "regress_values = x_values * slope + intercept\n",
    "line_eq = \"y = \" + str(round(slope,2)) + \"x + \" + str(round(intercept,2))\n",
    "plt.scatter(x_values,y_values)\n",
    "plt.plot(x_values,regress_values,\"r-\")\n",
    "plt.xlabel('Latitude')\n",
    "plt.ylabel('Cloudiness')\n",
    "print(f\"The r-value is {rvalue**2}\")\n",
    "plt.annotate(line_eq,(-50,80),fontsize=15,color=\"red\")\n",
    "plt.show()"
   ]
  },
  {
   "cell_type": "markdown",
   "metadata": {},
   "source": [
    "####  Northern Hemisphere - Wind Speed (mph) vs. Latitude Linear Regression"
   ]
  },
  {
   "cell_type": "code",
   "execution_count": 23,
   "metadata": {},
   "outputs": [
    {
     "name": "stdout",
     "output_type": "stream",
     "text": [
      "The r-value is 0.0023412715149819046\n"
     ]
    },
    {
     "data": {
      "image/png": "[encoded data removed]",
      "text/plain": [
       "<Figure size 432x288 with 1 Axes>"
      ]
     },
     "metadata": {
      "needs_background": "light"
     },
     "output_type": "display_data"
    }
   ],
   "source": [
    "x_values = northernHem['Latitude']\n",
    "y_values = northernHem['Wind Speed']\n",
    "(slope, intercept, rvalue, pvalue, stderr) = linregress(x_values, y_values)\n",
    "regress_values = x_values * slope + intercept\n",
    "line_eq = \"y = \" + str(round(slope,2)) + \"x + \" + str(round(intercept,2))\n",
    "plt.scatter(x_values,y_values)\n",
    "plt.plot(x_values,regress_values,\"r-\")\n",
    "plt.xlabel('Latitude')\n",
    "plt.ylabel('Wind Speed')\n",
    "print(f\"The r-value is {rvalue**2}\")\n",
    "plt.annotate(line_eq,(40,30),fontsize=15,color=\"red\")\n",
    "plt.show()"
   ]
  },
  {
   "cell_type": "markdown",
   "metadata": {},
   "source": [
    "####  Southern Hemisphere - Wind Speed (mph) vs. Latitude Linear Regression"
   ]
  },
  {
   "cell_type": "code",
   "execution_count": 24,
   "metadata": {},
   "outputs": [
    {
     "name": "stdout",
     "output_type": "stream",
     "text": [
      "The r-value is 0.015565352053713009\n"
     ]
    },
    {
     "data": {
      "image/png": "[encoded data removed]",
      "text/plain": [
       "<Figure size 432x288 with 1 Axes>"
      ]
     },
     "metadata": {
      "needs_background": "light"
     },
     "output_type": "display_data"
    }
   ],
   "source": [
    "x_values = southernHem['Latitude']\n",
    "y_values = southernHem['Wind Speed']\n",
    "(slope, intercept, rvalue, pvalue, stderr) = linregress(x_values, y_values)\n",
    "regress_values = x_values * slope + intercept\n",
    "line_eq = \"y = \" + str(round(slope,2)) + \"x + \" + str(round(intercept,2))\n",
    "plt.scatter(x_values,y_values)\n",
    "plt.plot(x_values,regress_values,\"r-\")\n",
    "plt.xlabel('Latitude')\n",
    "plt.ylabel('Wind Speed')\n",
    "print(f\"The r-value is {rvalue**2}\")\n",
    "plt.annotate(line_eq,(-30,25),fontsize=15,color=\"red\")\n",
    "plt.show()"
   ]
  }
 ],
 "metadata": {
  "anaconda-cloud": {},
  "kernel_info": {
   "name": "python3"
  },
  "kernelspec": {
   "display_name": "Python 3 (ipykernel)",
   "language": "python",
   "name": "python3"
  },
  "language_info": {
   "codemirror_mode": {
    "name": "ipython",
    "version": 3
   },
   "file_extension": ".py",
   "mimetype": "text/x-python",
   "name": "python",
   "nbconvert_exporter": "python",
   "pygments_lexer": "ipython3",
   "version": "3.9.7"
  },
  "latex_envs": {
   "LaTeX_envs_menu_present": true,
   "autoclose": false,
   "autocomplete": true,
   "bibliofile": "biblio.bib",
   "cite_by": "apalike",
   "current_citInitial": 1,
   "eqLabelWithNumbers": true,
   "eqNumInitial": 1,
   "hotkeys": {
    "equation": "Ctrl-E",
    "itemize": "Ctrl-I"
   },
   "labels_anchors": false,
   "latex_user_defs": false,
   "report_style_numbering": false,
   "user_envs_cfg": false
  },
  "nteract": {
   "version": "0.12.3"
  }
 },
 "nbformat": 4,
 "nbformat_minor": 2
}
